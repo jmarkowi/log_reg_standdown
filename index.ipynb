{
 "cells": [
  {
   "cell_type": "code",
   "execution_count": 2,
   "metadata": {},
   "outputs": [],
   "source": [
    "import seaborn\n",
    "import pandas as pd\n",
    "import numpy as np\n"
   ]
  },
  {
   "cell_type": "code",
   "execution_count": 3,
   "metadata": {},
   "outputs": [
    {
     "data": {
      "text/html": [
       "<div>\n",
       "<style scoped>\n",
       "    .dataframe tbody tr th:only-of-type {\n",
       "        vertical-align: middle;\n",
       "    }\n",
       "\n",
       "    .dataframe tbody tr th {\n",
       "        vertical-align: top;\n",
       "    }\n",
       "\n",
       "    .dataframe thead th {\n",
       "        text-align: right;\n",
       "    }\n",
       "</style>\n",
       "<table border=\"1\" class=\"dataframe\">\n",
       "  <thead>\n",
       "    <tr style=\"text-align: right;\">\n",
       "      <th></th>\n",
       "      <th>survived</th>\n",
       "      <th>pclass</th>\n",
       "      <th>sex</th>\n",
       "      <th>age</th>\n",
       "      <th>sibsp</th>\n",
       "      <th>parch</th>\n",
       "      <th>fare</th>\n",
       "      <th>embarked</th>\n",
       "      <th>class</th>\n",
       "      <th>who</th>\n",
       "      <th>adult_male</th>\n",
       "      <th>deck</th>\n",
       "      <th>embark_town</th>\n",
       "      <th>alive</th>\n",
       "      <th>alone</th>\n",
       "    </tr>\n",
       "  </thead>\n",
       "  <tbody>\n",
       "    <tr>\n",
       "      <th>832</th>\n",
       "      <td>0</td>\n",
       "      <td>3</td>\n",
       "      <td>male</td>\n",
       "      <td>NaN</td>\n",
       "      <td>0</td>\n",
       "      <td>0</td>\n",
       "      <td>7.2292</td>\n",
       "      <td>C</td>\n",
       "      <td>Third</td>\n",
       "      <td>man</td>\n",
       "      <td>True</td>\n",
       "      <td>NaN</td>\n",
       "      <td>Cherbourg</td>\n",
       "      <td>no</td>\n",
       "      <td>True</td>\n",
       "    </tr>\n",
       "  </tbody>\n",
       "</table>\n",
       "</div>"
      ],
      "text/plain": [
       "     survived  pclass   sex  age  sibsp  parch    fare embarked  class  who  \\\n",
       "832         0       3  male  NaN      0      0  7.2292        C  Third  man   \n",
       "\n",
       "     adult_male deck embark_town alive  alone  \n",
       "832        True  NaN   Cherbourg    no   True  "
      ]
     },
     "execution_count": 3,
     "metadata": {},
     "output_type": "execute_result"
    }
   ],
   "source": [
    "titanic = seaborn.load_dataset('titanic')\n",
    "titanic.sample()"
   ]
  },
  {
   "cell_type": "markdown",
   "metadata": {},
   "source": [
    "# Task 1"
   ]
  },
  {
   "cell_type": "code",
   "execution_count": 4,
   "metadata": {},
   "outputs": [],
   "source": [
    "# Split the target 'survived' off from the predictors\n",
    "X = titanic.drop('survived', axis=1)\n",
    "y = titanic['survived']"
   ]
  },
  {
   "cell_type": "code",
   "execution_count": 5,
   "metadata": {},
   "outputs": [],
   "source": [
    "# convert the 'sex' column to a binary where 1 represents female\n",
    "X['sex'] = X['sex'].map({'male':0, 'female':1})"
   ]
  },
  {
   "cell_type": "markdown",
   "metadata": {},
   "source": [
    "# Task 2"
   ]
  },
  {
   "cell_type": "code",
   "execution_count": 6,
   "metadata": {},
   "outputs": [],
   "source": [
    "# Implement a train-test split using all default arguments and random_state=42\n",
    "from sklearn.model_selection import train_test_split\n",
    "\n",
    "X_train, X_test, y_train, y_test = train_test_split(X, y, random_state=42)"
   ]
  },
  {
   "cell_type": "markdown",
   "metadata": {},
   "source": [
    "# Task 3"
   ]
  },
  {
   "cell_type": "markdown",
   "metadata": {},
   "source": [
    "We will fit a logistic regression model using only `sex` and `fare`.  Remember that logistic regression uses regularization by default.  That means that scaling will have an effect on the scores. "
   ]
  },
  {
   "cell_type": "code",
   "execution_count": 7,
   "metadata": {},
   "outputs": [],
   "source": [
    "# Fit a standard scaler to train columns of interest, and transform both train and test\n",
    "from sklearn.preprocessing import StandardScaler\n",
    "\n",
    "cols_of_interest = ['sex', 'fare']\n",
    "\n",
    "ss = StandardScaler()\n",
    "X_train_sc = ss.fit_transform(X_train[cols_of_interest])\n",
    "X_test_sc = ss.transform(X_test[cols_of_interest])"
   ]
  },
  {
   "cell_type": "code",
   "execution_count": 8,
   "metadata": {},
   "outputs": [
    {
     "data": {
      "text/plain": [
       "LogisticRegression(random_state=42)"
      ]
     },
     "execution_count": 8,
     "metadata": {},
     "output_type": "execute_result"
    }
   ],
   "source": [
    "# Instantiate a logistic regression model with the default arguments and random_state=42\n",
    "from sklearn.linear_model import LogisticRegression\n",
    "\n",
    "lr = LogisticRegression(random_state=42)\n",
    "\n",
    "# Fit on the scaled training data. \n",
    "lr.fit(X_train_sc, y_train)"
   ]
  },
  {
   "cell_type": "markdown",
   "metadata": {},
   "source": [
    "# Task 4"
   ]
  },
  {
   "cell_type": "markdown",
   "metadata": {},
   "source": [
    "The `predict()` method applies a decision threshold to the predicted probabilities."
   ]
  },
  {
   "cell_type": "code",
   "execution_count": 9,
   "metadata": {},
   "outputs": [],
   "source": [
    "# Model test predictions\n",
    "y_hat = lr.predict(X_test_sc)"
   ]
  },
  {
   "cell_type": "markdown",
   "metadata": {},
   "source": [
    "Under the hood, the model is applying a decision threshold to assign a 0 or 1 prediction. \n",
    "For the exercise below, apply a decision threshold of .5 to the predicted probabities, so that you can recreate the 0 or 1 predictions stored in y_hat above."
   ]
  },
  {
   "cell_type": "code",
   "execution_count": 23,
   "metadata": {},
   "outputs": [],
   "source": [
    "# Convert these predicted probabilities to 0/1 predictions\n",
    "y_hat_proba = lr.predict_proba(X_test_sc)\n",
    "\n",
    "# Apply threshold here\n",
    "# y_hat_by_hand = np.array([int(round(y[1])) for y in y_hat_proba])\n",
    "# Max's solution: \n",
    "y_hat_by_hand = (y_hat_proba[:, 1] > 0.5)"
   ]
  },
  {
   "cell_type": "code",
   "execution_count": 10,
   "metadata": {},
   "outputs": [
    {
     "data": {
      "text/plain": [
       "array([0, 0, 0, 1, 1, 1, 1, 0, 1, 1, 0, 0, 1, 0, 0, 1, 0, 1, 0, 0, 0, 0,\n",
       "       1, 0, 0, 0, 0, 0, 0, 1, 0, 1, 0, 1, 0, 0, 0, 1, 1, 0, 0, 0, 0, 0,\n",
       "       1, 0, 0, 0, 0, 0, 1, 1, 0, 0, 0, 1, 0, 1, 1, 1, 0, 1, 1, 0, 0, 1,\n",
       "       0, 0, 0, 1, 1, 1, 0, 1, 0, 0, 1, 1, 1, 1, 0, 1, 1, 0, 0, 0, 1, 1,\n",
       "       0, 0, 0, 1, 0, 0, 0, 0, 0, 0, 1, 0, 0, 0, 1, 0, 0, 0, 1, 0, 0, 0,\n",
       "       1, 0, 1, 0, 1, 0, 0, 0, 1, 1, 0, 1, 1, 0, 0, 0, 1, 0, 1, 0, 1, 0,\n",
       "       0, 1, 0, 1, 1, 0, 0, 1, 0, 1, 0, 0, 1, 1, 0, 0, 1, 0, 0, 0, 0, 1,\n",
       "       0, 0, 0, 1, 1, 1, 0, 0, 0, 1, 0, 0, 0, 1, 0, 0, 0, 1, 0, 1, 0, 0,\n",
       "       1, 1, 1, 0, 0, 0, 0, 1, 1, 0, 0, 0, 0, 1, 0, 0, 0, 0, 1, 1, 1, 0,\n",
       "       1, 1, 0, 1, 1, 1, 0, 1, 0, 0, 0, 0, 1, 0, 1, 0, 1, 0, 1, 0, 1, 0,\n",
       "       0, 1, 0])"
      ]
     },
     "execution_count": 10,
     "metadata": {},
     "output_type": "execute_result"
    }
   ],
   "source": [
    "y_hat"
   ]
  },
  {
   "cell_type": "code",
   "execution_count": 13,
   "metadata": {
    "scrolled": true
   },
   "outputs": [
    {
     "data": {
      "text/plain": [
       "array([[0.8299281 , 0.1700719 ],\n",
       "       [0.83692757, 0.16307243],\n",
       "       [0.84062732, 0.15937268],\n",
       "       [0.2676156 , 0.7323844 ],\n",
       "       [0.31527618, 0.68472382],\n",
       "       [0.18333385, 0.81666615],\n",
       "       [0.3233396 , 0.6766604 ],\n",
       "       [0.82575758, 0.17424242],\n",
       "       [0.3233396 , 0.6766604 ],\n",
       "       [0.28183303, 0.71816697],\n",
       "       [0.76547017, 0.23452983],\n",
       "       [0.8404493 , 0.1595507 ],\n",
       "       [0.28359252, 0.71640748],\n",
       "       [0.84162125, 0.15837875],\n",
       "       [0.83326972, 0.16673028],\n",
       "       [0.25449977, 0.74550023],\n",
       "       [0.76650968, 0.23349032],\n",
       "       [0.32315551, 0.67684449],\n",
       "       [0.83326972, 0.16673028],\n",
       "       [0.76756191, 0.23243809],\n",
       "       [0.84066888, 0.15933112],\n",
       "       [0.81229741, 0.18770259],\n",
       "       [0.32309741, 0.67690259],\n",
       "       [0.83876806, 0.16123194],\n",
       "       [0.83104367, 0.16895633],\n",
       "       [0.81010056, 0.18989944],\n",
       "       [0.8103933 , 0.1896067 ],\n",
       "       [0.83326972, 0.16673028],\n",
       "       [0.81010056, 0.18989944],\n",
       "       [0.32309741, 0.67690259],\n",
       "       [0.84066888, 0.15933112],\n",
       "       [0.3233396 , 0.6766604 ],\n",
       "       [0.8054885 , 0.1945115 ],\n",
       "       [0.32380471, 0.67619529],\n",
       "       [0.8404493 , 0.1595507 ],\n",
       "       [0.83111199, 0.16888801],\n",
       "       [0.79736591, 0.20263409],\n",
       "       [0.3233396 , 0.6766604 ],\n",
       "       [0.27180116, 0.72819884],\n",
       "       [0.84066888, 0.15933112],\n",
       "       [0.72435192, 0.27564808],\n",
       "       [0.84187488, 0.15812512],\n",
       "       [0.8404493 , 0.1595507 ],\n",
       "       [0.84087627, 0.15912373],\n",
       "       [0.30795439, 0.69204561],\n",
       "       [0.7992904 , 0.2007096 ],\n",
       "       [0.84029494, 0.15970506],\n",
       "       [0.83876806, 0.16123194],\n",
       "       [0.84186894, 0.15813106],\n",
       "       [0.63263393, 0.36736607],\n",
       "       [0.29718373, 0.70281627],\n",
       "       [0.16116553, 0.83883447],\n",
       "       [0.81010056, 0.18989944],\n",
       "       [0.61587555, 0.38412445],\n",
       "       [0.84087627, 0.15912373],\n",
       "       [0.18206461, 0.81793539],\n",
       "       [0.83692757, 0.16307243],\n",
       "       [0.03605145, 0.96394855],\n",
       "       [0.29333303, 0.70666697],\n",
       "       [0.32303932, 0.67696068],\n",
       "       [0.84084073, 0.15915927],\n",
       "       [0.29664762, 0.70335238],\n",
       "       [0.28244269, 0.71755731],\n",
       "       [0.81330783, 0.18669217],\n",
       "       [0.84087627, 0.15912373],\n",
       "       [0.31697993, 0.68302007],\n",
       "       [0.72435192, 0.27564808],\n",
       "       [0.84069848, 0.15930152],\n",
       "       [0.8416153 , 0.1583847 ],\n",
       "       [0.18426361, 0.81573639],\n",
       "       [0.28244269, 0.71755731],\n",
       "       [0.03095069, 0.96904931],\n",
       "       [0.80664421, 0.19335579],\n",
       "       [0.17657914, 0.82342086],\n",
       "       [0.84072808, 0.15927192],\n",
       "       [0.82947139, 0.17052861],\n",
       "       [0.3233396 , 0.6766604 ],\n",
       "       [0.23468012, 0.76531988],\n",
       "       [0.31125707, 0.68874293],\n",
       "       [0.29507049, 0.70492951],\n",
       "       [0.79008181, 0.20991819],\n",
       "       [0.31697993, 0.68302007],\n",
       "       [0.11054201, 0.88945799],\n",
       "       [0.84089405, 0.15910595],\n",
       "       [0.8054885 , 0.1945115 ],\n",
       "       [0.77225949, 0.22774051],\n",
       "       [0.13473852, 0.86526148],\n",
       "       [0.22080049, 0.77919951],\n",
       "       [0.85158769, 0.14841231],\n",
       "       [0.84158584, 0.15841416],\n",
       "       [0.82186361, 0.17813639],\n",
       "       [0.27122321, 0.72877679],\n",
       "       [0.80276904, 0.19723096],\n",
       "       [0.84090584, 0.15909416],\n",
       "       [0.84066888, 0.15933112],\n",
       "       [0.84072808, 0.15927192],\n",
       "       [0.76756191, 0.23243809],\n",
       "       [0.8404493 , 0.1595507 ],\n",
       "       [0.31125707, 0.68874293],\n",
       "       [0.84066888, 0.15933112],\n",
       "       [0.81318681, 0.18681319],\n",
       "       [0.84176282, 0.15823718],\n",
       "       [0.16467324, 0.83532676],\n",
       "       [0.84186894, 0.15813106],\n",
       "       [0.8404493 , 0.1595507 ],\n",
       "       [0.84084073, 0.15915927],\n",
       "       [0.25530699, 0.74469301],\n",
       "       [0.79216679, 0.20783321],\n",
       "       [0.83837251, 0.16162749],\n",
       "       [0.80498159, 0.19501841],\n",
       "       [0.22994291, 0.77005709],\n",
       "       [0.84158584, 0.15841416],\n",
       "       [0.16758018, 0.83241982],\n",
       "       [0.8127223 , 0.1872777 ],\n",
       "       [0.35220726, 0.64779274],\n",
       "       [0.83787402, 0.16212598],\n",
       "       [0.79881406, 0.20118594],\n",
       "       [0.83345416, 0.16654584],\n",
       "       [0.2760275 , 0.7239725 ],\n",
       "       [0.26476187, 0.73523813],\n",
       "       [0.83547224, 0.16452776],\n",
       "       [0.18743878, 0.81256122],\n",
       "       [0.18475666, 0.81524334],\n",
       "       [0.80829602, 0.19170398],\n",
       "       [0.84158584, 0.15841416],\n",
       "       [0.81229741, 0.18770259],\n",
       "       [0.28259518, 0.71740482],\n",
       "       [0.71209658, 0.28790342],\n",
       "       [0.30794511, 0.69205489],\n",
       "       [0.8404493 , 0.1595507 ],\n",
       "       [0.32303932, 0.67696068],\n",
       "       [0.8299281 , 0.1700719 ],\n",
       "       [0.85158769, 0.14841231],\n",
       "       [0.31245417, 0.68754583],\n",
       "       [0.75808723, 0.24191277],\n",
       "       [0.30795439, 0.69204561],\n",
       "       [0.1377288 , 0.8622712 ],\n",
       "       [0.84084073, 0.15915927],\n",
       "       [0.84116041, 0.15883959],\n",
       "       [0.3004302 , 0.6995698 ],\n",
       "       [0.83990243, 0.16009757],\n",
       "       [0.28244269, 0.71755731],\n",
       "       [0.83326972, 0.16673028],\n",
       "       [0.81318681, 0.18681319],\n",
       "       [0.27576217, 0.72423783],\n",
       "       [0.26865814, 0.73134186],\n",
       "       [0.83326972, 0.16673028],\n",
       "       [0.83692757, 0.16307243],\n",
       "       [0.09859442, 0.90140558],\n",
       "       [0.8404493 , 0.1595507 ],\n",
       "       [0.83950312, 0.16049688],\n",
       "       [0.84123734, 0.15876266],\n",
       "       [0.84081115, 0.15918885],\n",
       "       [0.28644347, 0.71355653],\n",
       "       [0.8404493 , 0.1595507 ],\n",
       "       [0.84186894, 0.15813106],\n",
       "       [0.75893074, 0.24106926],\n",
       "       [0.32325243, 0.67674757],\n",
       "       [0.28244269, 0.71755731],\n",
       "       [0.30559131, 0.69440869],\n",
       "       [0.8416153 , 0.1583847 ],\n",
       "       [0.81229741, 0.18770259],\n",
       "       [0.83326972, 0.16673028],\n",
       "       [0.17810991, 0.82189009],\n",
       "       [0.8398667 , 0.1601333 ],\n",
       "       [0.74811117, 0.25188883],\n",
       "       [0.83692757, 0.16307243],\n",
       "       [0.2302017 , 0.7697983 ],\n",
       "       [0.84066888, 0.15933112],\n",
       "       [0.84186894, 0.15813106],\n",
       "       [0.74533987, 0.25466013],\n",
       "       [0.31125707, 0.68874293],\n",
       "       [0.81256053, 0.18743947],\n",
       "       [0.30616477, 0.69383523],\n",
       "       [0.84176282, 0.15823718],\n",
       "       [0.84162125, 0.15837875],\n",
       "       [0.27098701, 0.72901299],\n",
       "       [0.31697993, 0.68302007],\n",
       "       [0.30289236, 0.69710764],\n",
       "       [0.80911788, 0.19088212],\n",
       "       [0.83326972, 0.16673028],\n",
       "       [0.84062732, 0.15937268],\n",
       "       [0.84072808, 0.15927192],\n",
       "       [0.27122321, 0.72877679],\n",
       "       [0.29258508, 0.70741492],\n",
       "       [0.81229741, 0.18770259],\n",
       "       [0.8103933 , 0.1896067 ],\n",
       "       [0.84066888, 0.15933112],\n",
       "       [0.79736591, 0.20263409],\n",
       "       [0.31125707, 0.68874293],\n",
       "       [0.81615457, 0.18384543],\n",
       "       [0.8343372 , 0.1656628 ],\n",
       "       [0.841863  , 0.158137  ],\n",
       "       [0.83837251, 0.16162749],\n",
       "       [0.28244269, 0.71755731],\n",
       "       [0.16625663, 0.83374337],\n",
       "       [0.04420818, 0.95579182],\n",
       "       [0.83326972, 0.16673028],\n",
       "       [0.22067109, 0.77932891],\n",
       "       [0.27122321, 0.72877679],\n",
       "       [0.84301483, 0.15698517],\n",
       "       [0.32122194, 0.67877806],\n",
       "       [0.28190465, 0.71809535],\n",
       "       [0.31908276, 0.68091724],\n",
       "       [0.8416153 , 0.1583847 ],\n",
       "       [0.29035033, 0.70964967],\n",
       "       [0.83839656, 0.16160344],\n",
       "       [0.61587555, 0.38412445],\n",
       "       [0.83110587, 0.16889413],\n",
       "       [0.8404493 , 0.1595507 ],\n",
       "       [0.37750967, 0.62249033],\n",
       "       [0.84158584, 0.15841416],\n",
       "       [0.16625663, 0.83374337],\n",
       "       [0.84091181, 0.15908819],\n",
       "       [0.28359252, 0.71640748],\n",
       "       [0.82100643, 0.17899357],\n",
       "       [0.27390925, 0.72609075],\n",
       "       [0.74931061, 0.25068939],\n",
       "       [0.28244269, 0.71755731],\n",
       "       [0.84158584, 0.15841416],\n",
       "       [0.84066888, 0.15933112],\n",
       "       [0.31125707, 0.68874293],\n",
       "       [0.8223492 , 0.1776508 ]])"
      ]
     },
     "execution_count": 13,
     "metadata": {},
     "output_type": "execute_result"
    }
   ],
   "source": [
    "y_hat_proba"
   ]
  },
  {
   "cell_type": "code",
   "execution_count": 24,
   "metadata": {
    "scrolled": true
   },
   "outputs": [
    {
     "data": {
      "text/plain": [
       "array([False, False, False,  True,  True,  True,  True, False,  True,\n",
       "        True, False, False,  True, False, False,  True, False,  True,\n",
       "       False, False, False, False,  True, False, False, False, False,\n",
       "       False, False,  True, False,  True, False,  True, False, False,\n",
       "       False,  True,  True, False, False, False, False, False,  True,\n",
       "       False, False, False, False, False,  True,  True, False, False,\n",
       "       False,  True, False,  True,  True,  True, False,  True,  True,\n",
       "       False, False,  True, False, False, False,  True,  True,  True,\n",
       "       False,  True, False, False,  True,  True,  True,  True, False,\n",
       "        True,  True, False, False, False,  True,  True, False, False,\n",
       "       False,  True, False, False, False, False, False, False,  True,\n",
       "       False, False, False,  True, False, False, False,  True, False,\n",
       "       False, False,  True, False,  True, False,  True, False, False,\n",
       "       False,  True,  True, False,  True,  True, False, False, False,\n",
       "        True, False,  True, False,  True, False, False,  True, False,\n",
       "        True,  True, False, False,  True, False,  True, False, False,\n",
       "        True,  True, False, False,  True, False, False, False, False,\n",
       "        True, False, False, False,  True,  True,  True, False, False,\n",
       "       False,  True, False, False, False,  True, False, False, False,\n",
       "        True, False,  True, False, False,  True,  True,  True, False,\n",
       "       False, False, False,  True,  True, False, False, False, False,\n",
       "        True, False, False, False, False,  True,  True,  True, False,\n",
       "        True,  True, False,  True,  True,  True, False,  True, False,\n",
       "       False, False, False,  True, False,  True, False,  True, False,\n",
       "        True, False,  True, False, False,  True, False])"
      ]
     },
     "execution_count": 24,
     "metadata": {},
     "output_type": "execute_result"
    }
   ],
   "source": [
    "y_hat_by_hand"
   ]
  },
  {
   "cell_type": "code",
   "execution_count": 15,
   "metadata": {},
   "outputs": [],
   "source": [
    "assert (y_hat == y_hat_by_hand).sum() == len(y_hat)"
   ]
  },
  {
   "cell_type": "markdown",
   "metadata": {},
   "source": [
    "# Stretch Task"
   ]
  },
  {
   "cell_type": "markdown",
   "metadata": {},
   "source": [
    "For the final task, we will recreate the predicted probabilities using the coefficients and intercept of the fitted model.  The parameters that the fit method calculates are fed into a linear equation, whose output represents log odds. That can be confusing, but its easier to think about if you think about what results after feeding the log odds into the sigmoid function."
   ]
  },
  {
   "cell_type": "code",
   "execution_count": 16,
   "metadata": {},
   "outputs": [],
   "source": [
    "def sigmoid(log_odd):\n",
    "    \n",
    "    '''\n",
    "    The link function translates a log_odd prediction\n",
    "    and returns a probability of class 1 with a\n",
    "    number between 0 and 1.\n",
    "    '''\n",
    "    \n",
    "    return 1/(1+np.e**(-log_odd))\n",
    "    "
   ]
  },
  {
   "cell_type": "markdown",
   "metadata": {},
   "source": [
    "The sigmoid takes a log odd input, and translates it to a number between 0 and 1.  The sigmoid ensures that any result of the linear equation (log odds) which is negative translates into a probability closer to 0 than 1; in other words, below .5.  A positive log odd results in a prediction closer to 1 than 0; in other words above .5."
   ]
  },
  {
   "cell_type": "markdown",
   "metadata": {},
   "source": [
    "In the cell below, use the coef_ and intercept_ attributes from the fit model to calculate the log_odds for each record in the test set. Then pass these log_odds into the sigmoid function above."
   ]
  },
  {
   "cell_type": "code",
   "execution_count": 17,
   "metadata": {},
   "outputs": [
    {
     "data": {
      "text/plain": [
       "array([[1.14069272, 0.5478949 ]])"
      ]
     },
     "execution_count": 17,
     "metadata": {},
     "output_type": "execute_result"
    }
   ],
   "source": [
    "lr.coef_"
   ]
  },
  {
   "cell_type": "code",
   "execution_count": 18,
   "metadata": {},
   "outputs": [
    {
     "data": {
      "text/plain": [
       "array([-0.58133268])"
      ]
     },
     "execution_count": 18,
     "metadata": {},
     "output_type": "execute_result"
    }
   ],
   "source": [
    "lr.intercept_"
   ]
  },
  {
   "cell_type": "code",
   "execution_count": 36,
   "metadata": {},
   "outputs": [],
   "source": [
    "# Log odds are the output of the dot product of X_test, \n",
    "# a version of the coef_ attribute, plus the interceps_ attribute. \n",
    "log_odds = np.add((np.dot(X_test_sc, lr.coef_.T)), lr.intercept_)\n",
    "\n",
    "# use a list comprehension to apply the sigmoid function to each log_odd.\n",
    "predict_proba_by_hand = sigmoid(log_odds)"
   ]
  },
  {
   "cell_type": "code",
   "execution_count": 53,
   "metadata": {
    "scrolled": true
   },
   "outputs": [
    {
     "data": {
      "text/plain": [
       "array([[-1.58511775],\n",
       "       [-1.63554305],\n",
       "       [-1.66290307],\n",
       "       [ 1.0067539 ],\n",
       "       [ 0.77556655],\n",
       "       [ 1.49392155],\n",
       "       [ 0.73846637],\n",
       "       [-1.55585369],\n",
       "       [ 0.73846637],\n",
       "       [ 0.93538729],\n",
       "       [-1.18290746],\n",
       "       [-1.66157491],\n",
       "       [ 0.92671071],\n",
       "       [-1.67034074],\n",
       "       [-1.60897993],\n",
       "       [ 1.07475549],\n",
       "       [-1.18870672],\n",
       "       [ 0.73930789],\n",
       "       [-1.60897993],\n",
       "       [-1.19459523],\n",
       "       [-1.66321333],\n",
       "       [-1.46500781],\n",
       "       [ 0.73957352],\n",
       "       [-1.64909025],\n",
       "       [-1.59304206],\n",
       "       [-1.45066373],\n",
       "       [-1.45256777],\n",
       "       [-1.60897993],\n",
       "       [-1.45066373],\n",
       "       [ 0.73957352],\n",
       "       [-1.66321333],\n",
       "       [ 0.73846637],\n",
       "       [-1.42095766],\n",
       "       [ 0.73634132],\n",
       "       [-1.66157491],\n",
       "       [-1.5935287 ],\n",
       "       [-1.36991184],\n",
       "       [ 0.73846637],\n",
       "       [ 0.9855034 ],\n",
       "       [-1.66321333],\n",
       "       [-0.96615239],\n",
       "       [-1.67224479],\n",
       "       [-1.66157491],\n",
       "       [-1.66476249],\n",
       "       [ 0.80970016],\n",
       "       [-1.38186524],\n",
       "       [-1.6604242 ],\n",
       "       [-1.64909025],\n",
       "       [-1.67220016],\n",
       "       [-0.54353312],\n",
       "       [ 0.86074492],\n",
       "       [ 1.64958144],\n",
       "       [-1.45066373],\n",
       "       [-0.47207832],\n",
       "       [-1.66476249],\n",
       "       [ 1.50242175],\n",
       "       [-1.63554305],\n",
       "       [ 3.28609074],\n",
       "       [ 0.87925091],\n",
       "       [ 0.73983915],\n",
       "       [-1.66449686],\n",
       "       [ 0.86331304],\n",
       "       [ 0.93237715],\n",
       "       [-1.47164859],\n",
       "       [-1.66476249],\n",
       "       [ 0.7676858 ],\n",
       "       [-0.96615239],\n",
       "       [-1.66343433],\n",
       "       [-1.67029612],\n",
       "       [ 1.48772384],\n",
       "       [ 0.93237715],\n",
       "       [ 3.44392031],\n",
       "       [-1.4283507 ],\n",
       "       [ 1.53969831],\n",
       "       [-1.66365534],\n",
       "       [-1.58188555],\n",
       "       [ 0.73846637],\n",
       "       [ 1.1820705 ],\n",
       "       [ 0.79424892],\n",
       "       [ 0.87088353],\n",
       "       [-1.32541861],\n",
       "       [ 0.7676858 ],\n",
       "       [ 2.08521664],\n",
       "       [-1.6648953 ],\n",
       "       [-1.42095766],\n",
       "       [-1.22111373],\n",
       "       [ 1.85969573],\n",
       "       [ 1.2610076 ],\n",
       "       [-1.74710817],\n",
       "       [-1.67007511],\n",
       "       [-1.52902494],\n",
       "       [ 0.98842534],\n",
       "       [-1.40369163],\n",
       "       [-1.66498349],\n",
       "       [-1.66321333],\n",
       "       [-1.66365534],\n",
       "       [-1.19459523],\n",
       "       [-1.66157491],\n",
       "       [ 0.79424892],\n",
       "       [-1.66321333],\n",
       "       [-1.4708517 ],\n",
       "       [-1.67140327],\n",
       "       [ 1.62385984],\n",
       "       [-1.67220016],\n",
       "       [-1.66157491],\n",
       "       [-1.66449686],\n",
       "       [ 1.07050539],\n",
       "       [-1.33803609],\n",
       "       [-1.6461683 ],\n",
       "       [-1.41772546],\n",
       "       [ 1.20863362],\n",
       "       [-1.67007511],\n",
       "       [ 1.60287497],\n",
       "       [-1.46779694],\n",
       "       [ 0.60935099],\n",
       "       [-1.64249409],\n",
       "       [-1.37889867],\n",
       "       [-1.61030809],\n",
       "       [ 0.9642529 ],\n",
       "       [ 1.02136361],\n",
       "       [-1.62491781],\n",
       "       [ 1.46673897],\n",
       "       [ 1.48444701],\n",
       "       [-1.43897595],\n",
       "       [-1.67007511],\n",
       "       [-1.46500781],\n",
       "       [ 0.93162489],\n",
       "       [-0.90558847],\n",
       "       [ 0.80974372],\n",
       "       [-1.66157491],\n",
       "       [ 0.73983915],\n",
       "       [-1.58511775],\n",
       "       [-1.74710817],\n",
       "       [ 0.78867067],\n",
       "       [-1.14222126],\n",
       "       [ 0.80970016],\n",
       "       [ 1.83428333],\n",
       "       [-1.66449686],\n",
       "       [-1.66688754],\n",
       "       [ 0.84525012],\n",
       "       [-1.65750226],\n",
       "       [ 0.93237715],\n",
       "       [-1.60897993],\n",
       "       [-1.4708517 ],\n",
       "       [ 0.96558106],\n",
       "       [ 1.00144127],\n",
       "       [-1.60897993],\n",
       "       [-1.63554305],\n",
       "       [ 2.21294063],\n",
       "       [-1.66157491],\n",
       "       [-1.65453569],\n",
       "       [-1.66746343],\n",
       "       [-1.66427585],\n",
       "       [ 0.91272044],\n",
       "       [-1.66157491],\n",
       "       [-1.67220016],\n",
       "       [-1.14682624],\n",
       "       [ 0.73886481],\n",
       "       [ 0.93237715],\n",
       "       [ 0.82081204],\n",
       "       [-1.67029612],\n",
       "       [-1.46500781],\n",
       "       [-1.60897993],\n",
       "       [ 1.52920587],\n",
       "       [-1.65723662],\n",
       "       [-1.08856375],\n",
       "       [-1.63554305],\n",
       "       [ 1.20717265],\n",
       "       [-1.66321333],\n",
       "       [-1.67220016],\n",
       "       [-1.07391047],\n",
       "       [ 0.79424892],\n",
       "       [-1.46673442],\n",
       "       [ 0.81811111],\n",
       "       [-1.67140327],\n",
       "       [-1.67034074],\n",
       "       [ 0.98962068],\n",
       "       [ 0.7676858 ],\n",
       "       [ 0.83356234],\n",
       "       [-1.44428858],\n",
       "       [-1.60897993],\n",
       "       [-1.66290307],\n",
       "       [-1.66365534],\n",
       "       [ 0.98842534],\n",
       "       [ 0.88286189],\n",
       "       [-1.46500781],\n",
       "       [-1.45256777],\n",
       "       [-1.66321333],\n",
       "       [-1.36991184],\n",
       "       [ 0.79424892],\n",
       "       [-1.49050841],\n",
       "       [-1.61668324],\n",
       "       [-1.67215554],\n",
       "       [-1.6461683 ],\n",
       "       [ 0.93237715],\n",
       "       [ 1.61239307],\n",
       "       [ 3.07363039],\n",
       "       [-1.60897993],\n",
       "       [ 1.26175986],\n",
       "       [ 0.98842534],\n",
       "       [-1.68083318],\n",
       "       [ 0.74816191],\n",
       "       [ 0.93503347],\n",
       "       [ 0.75799026],\n",
       "       [-1.67029612],\n",
       "       [ 0.89368319],\n",
       "       [-1.64634574],\n",
       "       [-0.47207832],\n",
       "       [-1.59348513],\n",
       "       [-1.66157491],\n",
       "       [ 0.50013193],\n",
       "       [-1.67007511],\n",
       "       [ 1.61239307],\n",
       "       [-1.66502812],\n",
       "       [ 0.92671071],\n",
       "       [-1.52318105],\n",
       "       [ 0.97487815],\n",
       "       [-1.0949389 ],\n",
       "       [ 0.93237715],\n",
       "       [-1.67007511],\n",
       "       [-1.66321333],\n",
       "       [ 0.79424892],\n",
       "       [-1.53234533]])"
      ]
     },
     "execution_count": 53,
     "metadata": {},
     "output_type": "execute_result"
    }
   ],
   "source": [
    "log_odds"
   ]
  },
  {
   "cell_type": "code",
   "execution_count": 48,
   "metadata": {
    "scrolled": true
   },
   "outputs": [
    {
     "ename": "AssertionError",
     "evalue": "",
     "output_type": "error",
     "traceback": [
      "\u001b[0;31m---------------------------------------------------------------------------\u001b[0m",
      "\u001b[0;31mAssertionError\u001b[0m                            Traceback (most recent call last)",
      "\u001b[0;32m<ipython-input-48-47e9353e6d2a>\u001b[0m in \u001b[0;36m<module>\u001b[0;34m\u001b[0m\n\u001b[0;32m----> 1\u001b[0;31m \u001b[0;32massert\u001b[0m \u001b[0mnp\u001b[0m\u001b[0;34m.\u001b[0m\u001b[0misclose\u001b[0m\u001b[0;34m(\u001b[0m\u001b[0mpredict_proba_by_hand\u001b[0m\u001b[0;34m,\u001b[0m \u001b[0my_hat_proba\u001b[0m\u001b[0;34m[\u001b[0m\u001b[0;34m:\u001b[0m\u001b[0;34m,\u001b[0m\u001b[0;36m1\u001b[0m\u001b[0;34m]\u001b[0m\u001b[0;34m)\u001b[0m\u001b[0;34m.\u001b[0m\u001b[0msum\u001b[0m\u001b[0;34m(\u001b[0m\u001b[0;34m)\u001b[0m \u001b[0;34m==\u001b[0m \u001b[0;36m223\u001b[0m\u001b[0;34m\u001b[0m\u001b[0;34m\u001b[0m\u001b[0m\n\u001b[0m",
      "\u001b[0;31mAssertionError\u001b[0m: "
     ]
    }
   ],
   "source": [
    "assert np.isclose(predict_proba_by_hand, y_hat_proba[:,1]).sum() == 223"
   ]
  },
  {
   "cell_type": "code",
   "execution_count": 49,
   "metadata": {
    "scrolled": true
   },
   "outputs": [
    {
     "data": {
      "text/plain": [
       "223"
      ]
     },
     "execution_count": 49,
     "metadata": {},
     "output_type": "execute_result"
    }
   ],
   "source": [
    "len(predict_proba_by_hand)"
   ]
  },
  {
   "cell_type": "code",
   "execution_count": 52,
   "metadata": {},
   "outputs": [
    {
     "data": {
      "text/plain": [
       "array([0.1700719 , 0.16307243, 0.15937268, 0.7323844 , 0.68472382,\n",
       "       0.81666615, 0.6766604 , 0.17424242, 0.6766604 , 0.71816697,\n",
       "       0.23452983, 0.1595507 , 0.71640748, 0.15837875, 0.16673028,\n",
       "       0.74550023, 0.23349032, 0.67684449, 0.16673028, 0.23243809,\n",
       "       0.15933112, 0.18770259, 0.67690259, 0.16123194, 0.16895633,\n",
       "       0.18989944, 0.1896067 , 0.16673028, 0.18989944, 0.67690259,\n",
       "       0.15933112, 0.6766604 , 0.1945115 , 0.67619529, 0.1595507 ,\n",
       "       0.16888801, 0.20263409, 0.6766604 , 0.72819884, 0.15933112,\n",
       "       0.27564808, 0.15812512, 0.1595507 , 0.15912373, 0.69204561,\n",
       "       0.2007096 , 0.15970506, 0.16123194, 0.15813106, 0.36736607,\n",
       "       0.70281627, 0.83883447, 0.18989944, 0.38412445, 0.15912373,\n",
       "       0.81793539, 0.16307243, 0.96394855, 0.70666697, 0.67696068,\n",
       "       0.15915927, 0.70335238, 0.71755731, 0.18669217, 0.15912373,\n",
       "       0.68302007, 0.27564808, 0.15930152, 0.1583847 , 0.81573639,\n",
       "       0.71755731, 0.96904931, 0.19335579, 0.82342086, 0.15927192,\n",
       "       0.17052861, 0.6766604 , 0.76531988, 0.68874293, 0.70492951,\n",
       "       0.20991819, 0.68302007, 0.88945799, 0.15910595, 0.1945115 ,\n",
       "       0.22774051, 0.86526148, 0.77919951, 0.14841231, 0.15841416,\n",
       "       0.17813639, 0.72877679, 0.19723096, 0.15909416, 0.15933112,\n",
       "       0.15927192, 0.23243809, 0.1595507 , 0.68874293, 0.15933112,\n",
       "       0.18681319, 0.15823718, 0.83532676, 0.15813106, 0.1595507 ,\n",
       "       0.15915927, 0.74469301, 0.20783321, 0.16162749, 0.19501841,\n",
       "       0.77005709, 0.15841416, 0.83241982, 0.1872777 , 0.64779274,\n",
       "       0.16212598, 0.20118594, 0.16654584, 0.7239725 , 0.73523813,\n",
       "       0.16452776, 0.81256122, 0.81524334, 0.19170398, 0.15841416,\n",
       "       0.18770259, 0.71740482, 0.28790342, 0.69205489, 0.1595507 ,\n",
       "       0.67696068, 0.1700719 , 0.14841231, 0.68754583, 0.24191277,\n",
       "       0.69204561, 0.8622712 , 0.15915927, 0.15883959, 0.6995698 ,\n",
       "       0.16009757, 0.71755731, 0.16673028, 0.18681319, 0.72423783,\n",
       "       0.73134186, 0.16673028, 0.16307243, 0.90140558, 0.1595507 ,\n",
       "       0.16049688, 0.15876266, 0.15918885, 0.71355653, 0.1595507 ,\n",
       "       0.15813106, 0.24106926, 0.67674757, 0.71755731, 0.69440869,\n",
       "       0.1583847 , 0.18770259, 0.16673028, 0.82189009, 0.1601333 ,\n",
       "       0.25188883, 0.16307243, 0.7697983 , 0.15933112, 0.15813106,\n",
       "       0.25466013, 0.68874293, 0.18743947, 0.69383523, 0.15823718,\n",
       "       0.15837875, 0.72901299, 0.68302007, 0.69710764, 0.19088212,\n",
       "       0.16673028, 0.15937268, 0.15927192, 0.72877679, 0.70741492,\n",
       "       0.18770259, 0.1896067 , 0.15933112, 0.20263409, 0.68874293,\n",
       "       0.18384543, 0.1656628 , 0.158137  , 0.16162749, 0.71755731,\n",
       "       0.83374337, 0.95579182, 0.16673028, 0.77932891, 0.72877679,\n",
       "       0.15698517, 0.67877806, 0.71809535, 0.68091724, 0.1583847 ,\n",
       "       0.70964967, 0.16160344, 0.38412445, 0.16889413, 0.1595507 ,\n",
       "       0.62249033, 0.15841416, 0.83374337, 0.15908819, 0.71640748,\n",
       "       0.17899357, 0.72609075, 0.25068939, 0.71755731, 0.15841416,\n",
       "       0.15933112, 0.68874293, 0.1776508 ])"
      ]
     },
     "execution_count": 52,
     "metadata": {},
     "output_type": "execute_result"
    }
   ],
   "source": [
    "y_hat_proba[:,1]"
   ]
  },
  {
   "cell_type": "code",
   "execution_count": null,
   "metadata": {},
   "outputs": [],
   "source": []
  }
 ],
 "metadata": {
  "kernelspec": {
   "display_name": "Python 3",
   "language": "python",
   "name": "python3"
  },
  "language_info": {
   "codemirror_mode": {
    "name": "ipython",
    "version": 3
   },
   "file_extension": ".py",
   "mimetype": "text/x-python",
   "name": "python",
   "nbconvert_exporter": "python",
   "pygments_lexer": "ipython3",
   "version": "3.8.5"
  }
 },
 "nbformat": 4,
 "nbformat_minor": 5
}
